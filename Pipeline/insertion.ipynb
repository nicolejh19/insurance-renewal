{
 "cells": [
  {
   "cell_type": "markdown",
   "metadata": {},
   "source": [
    "### Import"
   ]
  },
  {
   "cell_type": "code",
   "execution_count": 2,
   "metadata": {},
   "outputs": [],
   "source": [
    "import numpy as np\n",
    "import pandas as pd\n",
    "from pymongo import MongoClient"
   ]
  },
  {
   "cell_type": "markdown",
   "metadata": {},
   "source": [
    "### Connect to Database"
   ]
  },
  {
   "cell_type": "code",
   "execution_count": 3,
   "metadata": {},
   "outputs": [],
   "source": [
    "client = MongoClient()"
   ]
  },
  {
   "cell_type": "code",
   "execution_count": 4,
   "metadata": {},
   "outputs": [
    {
     "data": {
      "text/plain": [
       "MongoClient(host=['localhost:27017'], document_class=dict, tz_aware=False, connect=True)"
      ]
     },
     "execution_count": 4,
     "metadata": {},
     "output_type": "execute_result"
    }
   ],
   "source": [
    "client"
   ]
  },
  {
   "cell_type": "markdown",
   "metadata": {},
   "source": [
    "### Prepare Data"
   ]
  },
  {
   "cell_type": "markdown",
   "metadata": {},
   "source": [
    "Read dataset, check the data types and the first 5 rows"
   ]
  },
  {
   "cell_type": "code",
   "execution_count": 5,
   "metadata": {},
   "outputs": [],
   "source": [
    "df = pd.read_csv('../Data/insurance_data.csv', sep = ';')"
   ]
  },
  {
   "cell_type": "code",
   "execution_count": 6,
   "metadata": {},
   "outputs": [
    {
     "data": {
      "text/plain": [
       "insuree#                      int64\n",
       "gender                       object\n",
       "is45OrOlder                 float64\n",
       "isMarried                    object\n",
       "hasKids                      object\n",
       "insuredMonths                 int64\n",
       "termLifeInsurance            object\n",
       "multipleTermLifePolicies     object\n",
       "healthInsurance              object\n",
       "healthRiders                 object\n",
       "premiumFrequency            float64\n",
       "eStatements                  object\n",
       "monthlyPremium               object\n",
       "totalPremium                 object\n",
       "renewal                      object\n",
       "dtype: object"
      ]
     },
     "execution_count": 6,
     "metadata": {},
     "output_type": "execute_result"
    }
   ],
   "source": [
    "df.dtypes"
   ]
  },
  {
   "cell_type": "code",
   "execution_count": 7,
   "metadata": {},
   "outputs": [
    {
     "data": {
      "text/html": [
       "<div>\n",
       "<style scoped>\n",
       "    .dataframe tbody tr th:only-of-type {\n",
       "        vertical-align: middle;\n",
       "    }\n",
       "\n",
       "    .dataframe tbody tr th {\n",
       "        vertical-align: top;\n",
       "    }\n",
       "\n",
       "    .dataframe thead th {\n",
       "        text-align: right;\n",
       "    }\n",
       "</style>\n",
       "<table border=\"1\" class=\"dataframe\">\n",
       "  <thead>\n",
       "    <tr style=\"text-align: right;\">\n",
       "      <th></th>\n",
       "      <th>insuree#</th>\n",
       "      <th>gender</th>\n",
       "      <th>is45OrOlder</th>\n",
       "      <th>isMarried</th>\n",
       "      <th>hasKids</th>\n",
       "      <th>insuredMonths</th>\n",
       "      <th>termLifeInsurance</th>\n",
       "      <th>multipleTermLifePolicies</th>\n",
       "      <th>healthInsurance</th>\n",
       "      <th>healthRiders</th>\n",
       "      <th>premiumFrequency</th>\n",
       "      <th>eStatements</th>\n",
       "      <th>monthlyPremium</th>\n",
       "      <th>totalPremium</th>\n",
       "      <th>renewal</th>\n",
       "    </tr>\n",
       "  </thead>\n",
       "  <tbody>\n",
       "    <tr>\n",
       "      <th>0</th>\n",
       "      <td>1</td>\n",
       "      <td>F</td>\n",
       "      <td>0.0</td>\n",
       "      <td>Yes</td>\n",
       "      <td>Yes</td>\n",
       "      <td>23</td>\n",
       "      <td>Yes</td>\n",
       "      <td>No</td>\n",
       "      <td>No</td>\n",
       "      <td>NaN</td>\n",
       "      <td>12.0</td>\n",
       "      <td>Yes</td>\n",
       "      <td>19,65</td>\n",
       "      <td>451,55</td>\n",
       "      <td>Y</td>\n",
       "    </tr>\n",
       "    <tr>\n",
       "      <th>1</th>\n",
       "      <td>2</td>\n",
       "      <td>F</td>\n",
       "      <td>1.0</td>\n",
       "      <td>No</td>\n",
       "      <td>No</td>\n",
       "      <td>42</td>\n",
       "      <td>Yes</td>\n",
       "      <td>Yes</td>\n",
       "      <td>Class A</td>\n",
       "      <td>3</td>\n",
       "      <td>1.0</td>\n",
       "      <td>Yes</td>\n",
       "      <td>84,65</td>\n",
       "      <td>3541,35</td>\n",
       "      <td>N</td>\n",
       "    </tr>\n",
       "    <tr>\n",
       "      <th>2</th>\n",
       "      <td>3</td>\n",
       "      <td>F</td>\n",
       "      <td>0.0</td>\n",
       "      <td>Yes</td>\n",
       "      <td>No</td>\n",
       "      <td>72</td>\n",
       "      <td>Yes</td>\n",
       "      <td>No</td>\n",
       "      <td>No</td>\n",
       "      <td>NaN</td>\n",
       "      <td>12.0</td>\n",
       "      <td>No</td>\n",
       "      <td>19,4</td>\n",
       "      <td>1496,45</td>\n",
       "      <td>Y</td>\n",
       "    </tr>\n",
       "    <tr>\n",
       "      <th>3</th>\n",
       "      <td>4</td>\n",
       "      <td>F</td>\n",
       "      <td>0.0</td>\n",
       "      <td>Yes</td>\n",
       "      <td>Yes</td>\n",
       "      <td>13</td>\n",
       "      <td>Yes</td>\n",
       "      <td>No</td>\n",
       "      <td>No</td>\n",
       "      <td>NaN</td>\n",
       "      <td>12.0</td>\n",
       "      <td>No</td>\n",
       "      <td>19,55</td>\n",
       "      <td>265,3</td>\n",
       "      <td>Y</td>\n",
       "    </tr>\n",
       "    <tr>\n",
       "      <th>4</th>\n",
       "      <td>5</td>\n",
       "      <td>F</td>\n",
       "      <td>0.0</td>\n",
       "      <td>No</td>\n",
       "      <td>No</td>\n",
       "      <td>37</td>\n",
       "      <td>Yes</td>\n",
       "      <td>Yes</td>\n",
       "      <td>Class A</td>\n",
       "      <td>3,4</td>\n",
       "      <td>1.0</td>\n",
       "      <td>No</td>\n",
       "      <td>100,3</td>\n",
       "      <td>3541,4</td>\n",
       "      <td>Y</td>\n",
       "    </tr>\n",
       "  </tbody>\n",
       "</table>\n",
       "</div>"
      ],
      "text/plain": [
       "   insuree# gender  is45OrOlder isMarried hasKids  insuredMonths  \\\n",
       "0         1      F          0.0       Yes     Yes             23   \n",
       "1         2      F          1.0        No      No             42   \n",
       "2         3      F          0.0       Yes      No             72   \n",
       "3         4      F          0.0       Yes     Yes             13   \n",
       "4         5      F          0.0        No      No             37   \n",
       "\n",
       "  termLifeInsurance multipleTermLifePolicies healthInsurance healthRiders  \\\n",
       "0               Yes                       No              No          NaN   \n",
       "1               Yes                      Yes         Class A            3   \n",
       "2               Yes                       No              No          NaN   \n",
       "3               Yes                       No              No          NaN   \n",
       "4               Yes                      Yes         Class A          3,4   \n",
       "\n",
       "   premiumFrequency eStatements monthlyPremium totalPremium renewal  \n",
       "0              12.0         Yes          19,65       451,55       Y  \n",
       "1               1.0         Yes          84,65      3541,35       N  \n",
       "2              12.0          No           19,4      1496,45       Y  \n",
       "3              12.0          No          19,55        265,3       Y  \n",
       "4               1.0          No          100,3       3541,4       Y  "
      ]
     },
     "execution_count": 7,
     "metadata": {},
     "output_type": "execute_result"
    }
   ],
   "source": [
    "df.head(5)"
   ]
  },
  {
   "cell_type": "markdown",
   "metadata": {},
   "source": [
    "Clean dataset"
   ]
  },
  {
   "cell_type": "code",
   "execution_count": 8,
   "metadata": {},
   "outputs": [],
   "source": [
    "df['is45OrOlder'] = df['is45OrOlder'].map({0: False, 1: True})\n",
    "df['isMarried'] = df['isMarried'].map({'No': False, 'Yes': True})\n",
    "df['hasKids'] = df['hasKids'].map({'No': False, 'Yes': True})\n",
    "df['termLifeInsurance'] = df['termLifeInsurance'].map({'No': False, 'Yes': True})\n",
    "df['multipleTermLifePolicies'] = df['multipleTermLifePolicies'].map({'No': False, 'Yes': True, 'no term life policy taken': False, 'term life policy not taken': False})\n",
    "df['healthInsurance'] = df['healthInsurance'].map({'No': False, 'Class A': True, 'Class B': True})\n",
    "df['healthRiders'] = df['healthRiders'].apply(lambda x : [int(i) for i in x.split(',')] if not pd.isna(x) else [])\n",
    "df['eStatements'] = df['eStatements'].map({'No': False, 'Yes': True})\n",
    "df['monthlyPremium'] = df['monthlyPremium'].str.replace(',', '.').astype(float)\n",
    "df['totalPremium'] = df['totalPremium'].str.replace(',', '.').str.strip().apply(lambda x: float(x) if len(x) != 0 else np.nan)\n",
    "df['renewal'] = df['renewal'].map({'N': False, 'Y': True})"
   ]
  },
  {
   "cell_type": "markdown",
   "metadata": {},
   "source": [
    "Check data types and first 5 rows"
   ]
  },
  {
   "cell_type": "code",
   "execution_count": 9,
   "metadata": {},
   "outputs": [
    {
     "data": {
      "text/plain": [
       "insuree#                      int64\n",
       "gender                       object\n",
       "is45OrOlder                  object\n",
       "isMarried                      bool\n",
       "hasKids                        bool\n",
       "insuredMonths                 int64\n",
       "termLifeInsurance              bool\n",
       "multipleTermLifePolicies       bool\n",
       "healthInsurance                bool\n",
       "healthRiders                 object\n",
       "premiumFrequency            float64\n",
       "eStatements                    bool\n",
       "monthlyPremium              float64\n",
       "totalPremium                float64\n",
       "renewal                        bool\n",
       "dtype: object"
      ]
     },
     "execution_count": 9,
     "metadata": {},
     "output_type": "execute_result"
    }
   ],
   "source": [
    "df.dtypes"
   ]
  },
  {
   "cell_type": "code",
   "execution_count": 10,
   "metadata": {},
   "outputs": [
    {
     "data": {
      "text/html": [
       "<div>\n",
       "<style scoped>\n",
       "    .dataframe tbody tr th:only-of-type {\n",
       "        vertical-align: middle;\n",
       "    }\n",
       "\n",
       "    .dataframe tbody tr th {\n",
       "        vertical-align: top;\n",
       "    }\n",
       "\n",
       "    .dataframe thead th {\n",
       "        text-align: right;\n",
       "    }\n",
       "</style>\n",
       "<table border=\"1\" class=\"dataframe\">\n",
       "  <thead>\n",
       "    <tr style=\"text-align: right;\">\n",
       "      <th></th>\n",
       "      <th>insuree#</th>\n",
       "      <th>gender</th>\n",
       "      <th>is45OrOlder</th>\n",
       "      <th>isMarried</th>\n",
       "      <th>hasKids</th>\n",
       "      <th>insuredMonths</th>\n",
       "      <th>termLifeInsurance</th>\n",
       "      <th>multipleTermLifePolicies</th>\n",
       "      <th>healthInsurance</th>\n",
       "      <th>healthRiders</th>\n",
       "      <th>premiumFrequency</th>\n",
       "      <th>eStatements</th>\n",
       "      <th>monthlyPremium</th>\n",
       "      <th>totalPremium</th>\n",
       "      <th>renewal</th>\n",
       "    </tr>\n",
       "  </thead>\n",
       "  <tbody>\n",
       "    <tr>\n",
       "      <th>0</th>\n",
       "      <td>1</td>\n",
       "      <td>F</td>\n",
       "      <td>False</td>\n",
       "      <td>True</td>\n",
       "      <td>True</td>\n",
       "      <td>23</td>\n",
       "      <td>True</td>\n",
       "      <td>False</td>\n",
       "      <td>False</td>\n",
       "      <td>[]</td>\n",
       "      <td>12.0</td>\n",
       "      <td>True</td>\n",
       "      <td>19.65</td>\n",
       "      <td>451.55</td>\n",
       "      <td>True</td>\n",
       "    </tr>\n",
       "    <tr>\n",
       "      <th>1</th>\n",
       "      <td>2</td>\n",
       "      <td>F</td>\n",
       "      <td>True</td>\n",
       "      <td>False</td>\n",
       "      <td>False</td>\n",
       "      <td>42</td>\n",
       "      <td>True</td>\n",
       "      <td>True</td>\n",
       "      <td>True</td>\n",
       "      <td>[3]</td>\n",
       "      <td>1.0</td>\n",
       "      <td>True</td>\n",
       "      <td>84.65</td>\n",
       "      <td>3541.35</td>\n",
       "      <td>False</td>\n",
       "    </tr>\n",
       "    <tr>\n",
       "      <th>2</th>\n",
       "      <td>3</td>\n",
       "      <td>F</td>\n",
       "      <td>False</td>\n",
       "      <td>True</td>\n",
       "      <td>False</td>\n",
       "      <td>72</td>\n",
       "      <td>True</td>\n",
       "      <td>False</td>\n",
       "      <td>False</td>\n",
       "      <td>[]</td>\n",
       "      <td>12.0</td>\n",
       "      <td>False</td>\n",
       "      <td>19.40</td>\n",
       "      <td>1496.45</td>\n",
       "      <td>True</td>\n",
       "    </tr>\n",
       "    <tr>\n",
       "      <th>3</th>\n",
       "      <td>4</td>\n",
       "      <td>F</td>\n",
       "      <td>False</td>\n",
       "      <td>True</td>\n",
       "      <td>True</td>\n",
       "      <td>13</td>\n",
       "      <td>True</td>\n",
       "      <td>False</td>\n",
       "      <td>False</td>\n",
       "      <td>[]</td>\n",
       "      <td>12.0</td>\n",
       "      <td>False</td>\n",
       "      <td>19.55</td>\n",
       "      <td>265.30</td>\n",
       "      <td>True</td>\n",
       "    </tr>\n",
       "    <tr>\n",
       "      <th>4</th>\n",
       "      <td>5</td>\n",
       "      <td>F</td>\n",
       "      <td>False</td>\n",
       "      <td>False</td>\n",
       "      <td>False</td>\n",
       "      <td>37</td>\n",
       "      <td>True</td>\n",
       "      <td>True</td>\n",
       "      <td>True</td>\n",
       "      <td>[3, 4]</td>\n",
       "      <td>1.0</td>\n",
       "      <td>False</td>\n",
       "      <td>100.30</td>\n",
       "      <td>3541.40</td>\n",
       "      <td>True</td>\n",
       "    </tr>\n",
       "  </tbody>\n",
       "</table>\n",
       "</div>"
      ],
      "text/plain": [
       "   insuree# gender is45OrOlder  isMarried  hasKids  insuredMonths  \\\n",
       "0         1      F       False       True     True             23   \n",
       "1         2      F        True      False    False             42   \n",
       "2         3      F       False       True    False             72   \n",
       "3         4      F       False       True     True             13   \n",
       "4         5      F       False      False    False             37   \n",
       "\n",
       "   termLifeInsurance  multipleTermLifePolicies  healthInsurance healthRiders  \\\n",
       "0               True                     False            False           []   \n",
       "1               True                      True             True          [3]   \n",
       "2               True                     False            False           []   \n",
       "3               True                     False            False           []   \n",
       "4               True                      True             True       [3, 4]   \n",
       "\n",
       "   premiumFrequency  eStatements  monthlyPremium  totalPremium  renewal  \n",
       "0              12.0         True           19.65        451.55     True  \n",
       "1               1.0         True           84.65       3541.35    False  \n",
       "2              12.0        False           19.40       1496.45     True  \n",
       "3              12.0        False           19.55        265.30     True  \n",
       "4               1.0        False          100.30       3541.40     True  "
      ]
     },
     "execution_count": 10,
     "metadata": {},
     "output_type": "execute_result"
    }
   ],
   "source": [
    "df.head(5)"
   ]
  },
  {
   "cell_type": "markdown",
   "metadata": {},
   "source": [
    "Prepare data as a list of dictionaries for insertion to MongoDB"
   ]
  },
  {
   "cell_type": "code",
   "execution_count": 12,
   "metadata": {},
   "outputs": [],
   "source": [
    "lst_dct_insertion = []\n",
    "columns = ['insuree#', 'gender', 'is45OrOlder', 'isMarried', 'hasKids',\n",
    "            'insuredMonths', 'eStatements', 'monthlyPremium', 'totalPremium', 'renewal']\n",
    "\n",
    "for _, row in df.iterrows():\n",
    "    doc_insertion = {}\n",
    "    doc_insertion['_id'] = row['insuree#']\n",
    "\n",
    "    for c in columns:\n",
    "        doc_insertion[c] = row[c]\n",
    "\n",
    "    doc_insertion['termLifeInsurance'] = {\n",
    "        'hasPolicy': row['termLifeInsurance'],\n",
    "        'hasMultiplePolicies': row['multipleTermLifePolicies']\n",
    "    }\n",
    "\n",
    "    doc_insertion['healthInsurance'] = {\n",
    "        'hasPolicy': row['healthInsurance'],\n",
    "        'riders': row['healthRiders']\n",
    "    }\n",
    "\n",
    "    premium_frequency = row['premiumFrequency']\n",
    "    if not pd.isna(premium_frequency):\n",
    "        premium_frequency = int(premium_frequency)\n",
    "    doc_insertion['premiumFrequency'] = premium_frequency\n",
    "\n",
    "    lst_dct_insertion.append(doc_insertion)"
   ]
  },
  {
   "cell_type": "markdown",
   "metadata": {},
   "source": [
    "### Insert to Database"
   ]
  },
  {
   "cell_type": "markdown",
   "metadata": {},
   "source": [
    "Check first document to be inserted"
   ]
  },
  {
   "cell_type": "code",
   "execution_count": 13,
   "metadata": {},
   "outputs": [
    {
     "data": {
      "text/plain": [
       "{'_id': 1,\n",
       " 'insuree#': 1,\n",
       " 'gender': 'F',\n",
       " 'is45OrOlder': False,\n",
       " 'isMarried': True,\n",
       " 'hasKids': True,\n",
       " 'insuredMonths': 23,\n",
       " 'eStatements': True,\n",
       " 'monthlyPremium': 19.65,\n",
       " 'totalPremium': 451.55,\n",
       " 'renewal': True,\n",
       " 'termLifeInsurance': {'hasPolicy': True, 'hasMultiplePolicies': False},\n",
       " 'healthInsurance': {'hasPolicy': False, 'riders': []},\n",
       " 'premiumFrequency': 12}"
      ]
     },
     "execution_count": 13,
     "metadata": {},
     "output_type": "execute_result"
    }
   ],
   "source": [
    "lst_dct_insertion[0]"
   ]
  },
  {
   "cell_type": "code",
   "execution_count": 14,
   "metadata": {},
   "outputs": [],
   "source": [
    "db = client.insurance\n",
    "renewal = db.renewal"
   ]
  },
  {
   "cell_type": "markdown",
   "metadata": {},
   "source": [
    "Delete any documents in collection"
   ]
  },
  {
   "cell_type": "code",
   "execution_count": 16,
   "metadata": {},
   "outputs": [
    {
     "name": "stdout",
     "output_type": "stream",
     "text": [
      "0 documents deleted.\n"
     ]
    }
   ],
   "source": [
    "delete_res = renewal.delete_many({})\n",
    "print(delete_res.deleted_count, \"documents deleted.\")"
   ]
  },
  {
   "cell_type": "markdown",
   "metadata": {},
   "source": [
    "Insert to collection"
   ]
  },
  {
   "cell_type": "code",
   "execution_count": 18,
   "metadata": {},
   "outputs": [
    {
     "name": "stdout",
     "output_type": "stream",
     "text": [
      "Number of documents inserted: 5500\n"
     ]
    }
   ],
   "source": [
    "result = renewal.insert_many(lst_dct_insertion)\n",
    "print(f\"Number of documents inserted: {len(result.inserted_ids)}\")"
   ]
  },
  {
   "cell_type": "markdown",
   "metadata": {},
   "source": [
    "Check first document inserted"
   ]
  },
  {
   "cell_type": "code",
   "execution_count": 19,
   "metadata": {},
   "outputs": [
    {
     "data": {
      "text/plain": [
       "{'_id': 1,\n",
       " 'insuree#': 1,\n",
       " 'gender': 'F',\n",
       " 'is45OrOlder': False,\n",
       " 'isMarried': True,\n",
       " 'hasKids': True,\n",
       " 'insuredMonths': 23,\n",
       " 'eStatements': True,\n",
       " 'monthlyPremium': 19.65,\n",
       " 'totalPremium': 451.55,\n",
       " 'renewal': True,\n",
       " 'termLifeInsurance': {'hasPolicy': True, 'hasMultiplePolicies': False},\n",
       " 'healthInsurance': {'hasPolicy': False, 'riders': []},\n",
       " 'premiumFrequency': 12}"
      ]
     },
     "execution_count": 19,
     "metadata": {},
     "output_type": "execute_result"
    }
   ],
   "source": [
    "renewal.find_one()"
   ]
  },
  {
   "cell_type": "markdown",
   "metadata": {},
   "source": [
    "### Close Connection to Database"
   ]
  },
  {
   "cell_type": "code",
   "execution_count": 20,
   "metadata": {},
   "outputs": [],
   "source": [
    "client.close()"
   ]
  }
 ],
 "metadata": {
  "kernelspec": {
   "display_name": "Python 3 (ipykernel)",
   "language": "python",
   "name": "python3"
  },
  "language_info": {
   "codemirror_mode": {
    "name": "ipython",
    "version": 3
   },
   "file_extension": ".py",
   "mimetype": "text/x-python",
   "name": "python",
   "nbconvert_exporter": "python",
   "pygments_lexer": "ipython3",
   "version": "3.9.7"
  },
  "vscode": {
   "interpreter": {
    "hash": "0fb2e802edcbcaaee1da057168269c18f3ef9a1e745a3dfffcc4a096d467b9a9"
   }
  }
 },
 "nbformat": 4,
 "nbformat_minor": 2
}
